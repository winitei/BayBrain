{
 "cells": [
  {
   "cell_type": "markdown",
   "metadata": {},
   "source": [
    "# WiDS Datathon 2025: Brain Imaging Analysis\n",
    "## Data Exploration Notebook\n",
    "\n",
    "This notebook explores the brain imaging data for predicting ADHD diagnosis and biological sex."
   ]
  },
  {
   "cell_type": "code",
   "execution_count": 2,
   "metadata": {},
   "outputs": [],
   "source": [
    "import numpy as np\n",
    "import pandas as pd\n",
    "import matplotlib.pyplot as plt\n",
    "import seaborn as sns\n",
    "import nibabel as nib\n",
    "from nilearn import plotting\n",
    "\n",
    "%matplotlib inline\n"
   ]
  },
  {
   "cell_type": "code",
   "execution_count": 3,
   "metadata": {},
   "outputs": [
    {
     "name": "stdout",
     "output_type": "stream",
     "text": [
      "Dataset Shape: (5, 19901)\n",
      "\n",
      "First few columns:\n",
      "Index(['participant_id', '0throw_1thcolumn', '0throw_2thcolumn',\n",
      "       '0throw_3thcolumn', '0throw_4thcolumn'],\n",
      "      dtype='object')\n"
     ]
    }
   ],
   "source": [
    "# Load the connectome data\n",
    "# We'll only read a small portion first since the file is large\n",
    "connectome_data = pd.read_csv('TRAIN/TRAIN_FUNCTIONAL_CONNECTOME_MATRICES.csv', nrows=5)\n",
    "\n",
    "# Look at the basic information about the dataset\n",
    "print(\"Dataset Shape:\", connectome_data.shape)\n",
    "print(\"\\nFirst few columns:\")\n",
    "print(connectome_data.columns[:5])  # Just show first 5 columns to avoid overwhelming output"
   ]
  },
  {
   "cell_type": "code",
   "execution_count": 5,
   "metadata": {},
   "outputs": [
    {
     "name": "stdout",
     "output_type": "stream",
     "text": [
      "First 5 columns:\n",
      "Index(['participant_id', '0throw_1thcolumn', '0throw_2thcolumn',\n",
      "       '0throw_3thcolumn', '0throw_4thcolumn'],\n",
      "      dtype='object')\n",
      "\n",
      "Last 5 columns:\n",
      "Index(['196throw_198thcolumn', '196throw_199thcolumn', '197throw_198thcolumn',\n",
      "       '197throw_199thcolumn', '198throw_199thcolumn'],\n",
      "      dtype='object')\n"
     ]
    }
   ],
   "source": [
    "# Look at the first few columns and the last few columns\n",
    "print(\"First 5 columns:\")\n",
    "print(connectome_data.columns[:5])\n",
    "print(\"\\nLast 5 columns:\")\n",
    "print(connectome_data.columns[-5:])"
   ]
  },
  {
   "cell_type": "code",
   "execution_count": 6,
   "metadata": {},
   "outputs": [
    {
     "name": "stdout",
     "output_type": "stream",
     "text": [
      "1. Basic Dataset Information:\n",
      "--------------------------------------------------\n",
      "Total number of columns: 19901\n",
      "Number of rows (subjects): 5\n",
      "\n",
      "2. First Few Column Names:\n",
      "--------------------------------------------------\n",
      "['participant_id', '0throw_1thcolumn', '0throw_2thcolumn', '0throw_3thcolumn', '0throw_4thcolumn']\n",
      "\n",
      "3. Last Few Column Names:\n",
      "--------------------------------------------------\n",
      "['196throw_198thcolumn', '196throw_199thcolumn', '197throw_198thcolumn', '197throw_199thcolumn', '198throw_199thcolumn']\n",
      "\n",
      "4. First Row Preview:\n",
      "--------------------------------------------------\n",
      "participant_id      70z8Q2xdTXM3\n",
      "0throw_1thcolumn        0.093473\n",
      "0throw_2thcolumn        0.146902\n",
      "0throw_3thcolumn        0.067893\n",
      "0throw_4thcolumn        0.015141\n",
      "Name: 0, dtype: object\n"
     ]
    }
   ],
   "source": [
    "# First, let's look at the basic information about our dataset\n",
    "print(\"1. Basic Dataset Information:\")\n",
    "print(\"-\" * 50)\n",
    "print(f\"Total number of columns: {len(connectome_data.columns)}\")\n",
    "print(f\"Number of rows (subjects): {len(connectome_data)}\")\n",
    "\n",
    "print(\"\\n2. First Few Column Names:\")\n",
    "print(\"-\" * 50)\n",
    "print(connectome_data.columns[:5].tolist())\n",
    "\n",
    "print(\"\\n3. Last Few Column Names:\")\n",
    "print(\"-\" * 50)\n",
    "print(connectome_data.columns[-5:].tolist())\n",
    "\n",
    "print(\"\\n4. First Row Preview:\")\n",
    "print(\"-\" * 50)\n",
    "# Show first 5 values from the first row\n",
    "print(connectome_data.iloc[0, :5])"
   ]
  },
  {
   "cell_type": "code",
   "execution_count": null,
   "metadata": {},
   "outputs": [],
   "source": []
  }
 ],
 "metadata": {
  "kernelspec": {
   "display_name": "WiDS Datathon Python",
   "language": "python",
   "name": "widsdatathon"
  },
  "language_info": {
   "codemirror_mode": {
    "name": "ipython",
    "version": 3
   },
   "file_extension": ".py",
   "mimetype": "text/x-python",
   "name": "python",
   "nbconvert_exporter": "python",
   "pygments_lexer": "ipython3",
   "version": "3.9.6"
  }
 },
 "nbformat": 4,
 "nbformat_minor": 4
}
